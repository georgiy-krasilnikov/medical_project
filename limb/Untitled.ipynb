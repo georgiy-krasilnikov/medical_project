{
 "cells": [
  {
   "cell_type": "code",
   "execution_count": null,
   "id": "86530e83-cbcb-454d-83ea-81d999402938",
   "metadata": {},
   "outputs": [],
   "source": [
    "from keras.applications import Xception\n",
    "from keras.preprocessing.image import ImageDataGenerator\n",
    "from keras.layers import Dense, GlobalAveragePooling2D\n",
    "from keras.models import Model\n",
    "from keras.callbacks import ModelCheckpoint"
   ]
  },
  {
   "cell_type": "code",
   "execution_count": null,
   "id": "2e4e0421-a7f4-42bd-b248-ab2a8821a03d",
   "metadata": {},
   "outputs": [],
   "source": [
    "train_path = \"train\"  # путь для обучающей выборки\n",
    "test_path = \"test\"\n",
    "# Создайте генераторы данных для обучения и проверки\n",
    "train_datagen = ImageDataGenerator(\n",
    "rescale=1.0/255,\n",
    "shear_range=0.2,\n",
    "zoom_range=0.2,\n",
    "horizontal_flip=True\n",
    ")\n",
    "\n",
    "test_datagen = ImageDataGenerator(rescale=1.0/255)"
   ]
  },
  {
   "cell_type": "code",
   "execution_count": null,
   "id": "f3575279-7dab-424f-a2d0-db2b2b19dbce",
   "metadata": {},
   "outputs": [],
   "source": [
    "img_width, img_height = 499, 499\n",
    "batch_size = 35\n",
    "train_generator = train_datagen.flow_from_directory(\n",
    "train_path,\n",
    "target_size=(img_width, img_height),\n",
    "batch_size=batch_size,\n",
    "class_mode=\"binary\"\n",
    ")\n",
    "\n",
    "test_generator = test_datagen.flow_from_directory(\n",
    "test_path,\n",
    "target_size=(img_width, img_height),\n",
    "batch_size=batch_size,\n",
    "class_mode=\"binary\"\n",
    ")\n"
   ]
  },
  {
   "cell_type": "code",
   "execution_count": 1,
   "id": "899c7a40-79bf-4b67-9ec7-2c981614d65c",
   "metadata": {},
   "outputs": [
    {
     "ename": "NameError",
     "evalue": "name 'Xception' is not defined",
     "output_type": "error",
     "traceback": [
      "\u001b[0;31m---------------------------------------------------------------------------\u001b[0m",
      "\u001b[0;31mNameError\u001b[0m                                 Traceback (most recent call last)",
      "Cell \u001b[0;32mIn[1], line 1\u001b[0m\n\u001b[0;32m----> 1\u001b[0m xception \u001b[38;5;241m=\u001b[39m \u001b[43mXception\u001b[49m(weights\u001b[38;5;241m=\u001b[39m\u001b[38;5;124m\"\u001b[39m\u001b[38;5;124mimagenet\u001b[39m\u001b[38;5;124m\"\u001b[39m, include_top\u001b[38;5;241m=\u001b[39m\u001b[38;5;28;01mFalse\u001b[39;00m, input_shape\u001b[38;5;241m=\u001b[39m(img_width, img_height, \u001b[38;5;241m3\u001b[39m))\n\u001b[1;32m      2\u001b[0m callback \u001b[38;5;241m=\u001b[39m ModelCheckpoint(filepath\u001b[38;5;241m=\u001b[39m\u001b[38;5;124m\"\u001b[39m\u001b[38;5;124mlimb_xception.h5\u001b[39m\u001b[38;5;124m\"\u001b[39m, monitor\u001b[38;5;241m=\u001b[39m\u001b[38;5;124m\"\u001b[39m\u001b[38;5;124mval_accuracy\u001b[39m\u001b[38;5;124m\"\u001b[39m, save_best_only\u001b[38;5;241m=\u001b[39m\u001b[38;5;28;01mTrue\u001b[39;00m)\n\u001b[1;32m      3\u001b[0m \u001b[38;5;66;03m# Добавьте свои слои поверх Xception\u001b[39;00m\n",
      "\u001b[0;31mNameError\u001b[0m: name 'Xception' is not defined"
     ]
    }
   ],
   "source": [
    "xception = Xception(weights=\"imagenet\", include_top=False, input_shape=(img_width, img_height, 3))\n",
    "callback = ModelCheckpoint(filepath=\"limb_xception.h5\", monitor=\"val_accuracy\", save_best_only=True)\n",
    "# Добавьте свои слои поверх Xception\n",
    "x = xception.output\n",
    "x = GlobalAveragePooling2D()(x)\n",
    "x = Dense(256, activation=\"relu\")(x)\n",
    "x = Dense(128, activation=\"relu\")(x)\n",
    "output = Dense(1, activation=\"softmax\")(x)\n",
    "\n",
    "# Создайте модель на базе Xception\n",
    "model = Model(inputs=xception.input, outputs=output)\n",
    "\n",
    "# Заморозьте веса предобученных слоев\n",
    "for layer in xception.layers:\n",
    " layer.trainable = False\n",
    "\n",
    "# Скомпилируйте и обучите модель\n",
    "model.compile(optimizer=\"adam\", loss=\"binary_crossentropy\", metrics=[\"accuracy\"])\n",
    "\n",
    "model.fit(train_generator, epochs=15, steps_per_epoch=len(train_generator), validation_data=test_generator, validation_steps=len(test_generator),callbacks=[callback])\n",
    "\n",
    "accuracy = model.evaluate(test_generator)\n",
    "\n",
    "print(\"Результат = \", accuracy[1])"
   ]
  },
  {
   "cell_type": "code",
   "execution_count": null,
   "id": "fdafb46a-ce3f-4a0c-9855-bc951e093f19",
   "metadata": {},
   "outputs": [],
   "source": []
  }
 ],
 "metadata": {
  "kernelspec": {
   "display_name": "Python 3 (ipykernel)",
   "language": "python",
   "name": "python3"
  },
  "language_info": {
   "codemirror_mode": {
    "name": "ipython",
    "version": 3
   },
   "file_extension": ".py",
   "mimetype": "text/x-python",
   "name": "python",
   "nbconvert_exporter": "python",
   "pygments_lexer": "ipython3",
   "version": "3.11.5"
  }
 },
 "nbformat": 4,
 "nbformat_minor": 5
}
